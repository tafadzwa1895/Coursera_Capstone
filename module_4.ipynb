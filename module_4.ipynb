{
 "cells": [
  {
   "cell_type": "markdown",
   "metadata": {},
   "source": [
    "# Introduction / Business Problem\n",
    "\n",
    "A renowned Restaurant is looking to expand their chain in Milan. They need to determine whether Milan would be ideal city to open up a new site. There are factors that need to be considered such as relevance, costs, rentals, and most important location in the city. They need to consider whether it is going to be in uptown or downtown. Focusing on the location of the restaurant is important because it helps them reach their target market.\n",
    "\n",
    "We are going to focus on clustering restaurants and their locations and popularity. We are also going to consider expenses for employees, because an employee’s wage or monthly salary has to take into consideration of costs such as transportation, groceries, and utility bills. We are mainly going to focus on transportation in regard to employees.\n",
    "\n",
    "Another factor that is key is that the owners' have to also consider how much it will cost them to set up the restaurant, hence rentals are important either uptown or downtown.\n",
    "\n",
    "After our analysis we will use the results to find the most optimum locations for the restaurant.\n"
   ]
  },
  {
   "cell_type": "markdown",
   "metadata": {},
   "source": [
    "# Data\n",
    "\n",
    "1. A Map of Milan showing both uptown and down. Features that needed to be include are bus and train stations, taxi ranks, restaurant locations.\n",
    "2. Cluster of restaurants in Milan\n",
    "3. Cost of transport in Milan, data to be obtained through web scraping from [https://www.numbeo.com/cost-of-living/compare_cities.jsp?country1=United+Kingdom&city1=London&country2=Italy&city2=Milan]\n",
    "4. Ratings of the various restaurants in the Milan area and also look at the reviews.\n",
    "\n",
    "## Data Sources\n",
    "1. Four Square for the map of Milan and the locations of different restaurants in Milan\n",
    "2. To get a better understanding of costs we are going to get data from [https://www.numbeo.com/cost-of-living/compare_cities.jsp?country1=United+Kingdom&city1=London&country2=Italy&city2=Milan]\n",
    "3. Using Four Square will also look at the rating of the restaurants in Milan as well as identify various transportation methods."
   ]
  },
  {
   "cell_type": "code",
   "execution_count": null,
   "metadata": {},
   "outputs": [],
   "source": []
  }
 ],
 "metadata": {
  "kernelspec": {
   "display_name": "Python 3",
   "language": "python",
   "name": "python3"
  },
  "language_info": {
   "codemirror_mode": {
    "name": "ipython",
    "version": 3
   },
   "file_extension": ".py",
   "mimetype": "text/x-python",
   "name": "python",
   "nbconvert_exporter": "python",
   "pygments_lexer": "ipython3",
   "version": "3.7.4"
  }
 },
 "nbformat": 4,
 "nbformat_minor": 2
}
